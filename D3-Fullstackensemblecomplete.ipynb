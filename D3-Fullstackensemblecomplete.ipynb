{
 "cells": [
  {
   "cell_type": "code",
   "execution_count": 1,
   "metadata": {},
   "outputs": [],
   "source": [
    "import numpy as np \n",
    "import pandas as pd \n",
    "import matplotlib.pyplot as plt\n",
    "import seaborn as sns\n",
    "import warnings\n",
    "warnings.filterwarnings('ignore')\n",
    "import time\n",
    "from scipy.stats import norm"
   ]
  },
  {
   "cell_type": "code",
   "execution_count": 2,
   "metadata": {},
   "outputs": [],
   "source": [
    "from sklearn.model_selection import train_test_split\n",
    "from sklearn.preprocessing import LabelEncoder\n",
    "from sklearn.preprocessing import OrdinalEncoder\n",
    "from sklearn.model_selection import GridSearchCV\n",
    "from sklearn.preprocessing import StandardScaler\n",
    "from sklearn.preprocessing import MinMaxScaler\n"
   ]
  },
  {
   "cell_type": "code",
   "execution_count": 3,
   "metadata": {},
   "outputs": [],
   "source": [
    "from sklearn.model_selection import StratifiedKFold\n",
    "\n",
    "from sklearn.ensemble import RandomForestClassifier,VotingClassifier\n",
    "from sklearn.calibration import CalibratedClassifierCV\n",
    "from sklearn.neural_network import MLPClassifier\n",
    "from sklearn.tree import DecisionTreeClassifier\n",
    "from sklearn.neighbors import KNeighborsClassifier\n",
    "from sklearn.discriminant_analysis import LinearDiscriminantAnalysis\n",
    "from sklearn.naive_bayes import GaussianNB\n",
    "from sklearn.ensemble import AdaBoostClassifier\n",
    "from sklearn.ensemble import GradientBoostingClassifier\n",
    "from sklearn.ensemble import RandomForestClassifier\n",
    "from sklearn.ensemble import ExtraTreesClassifier\n",
    "from sklearn.linear_model import SGDClassifier\n",
    "from sklearn.svm import SVC \n",
    "import xgboost as xgb\n",
    "from vecstack import stacking\n",
    "from scipy import stats\n",
    "import os"
   ]
  },
  {
   "cell_type": "code",
   "execution_count": 4,
   "metadata": {
    "scrolled": true
   },
   "outputs": [
    {
     "data": {
      "text/html": [
       "<div>\n",
       "<style scoped>\n",
       "    .dataframe tbody tr th:only-of-type {\n",
       "        vertical-align: middle;\n",
       "    }\n",
       "\n",
       "    .dataframe tbody tr th {\n",
       "        vertical-align: top;\n",
       "    }\n",
       "\n",
       "    .dataframe thead th {\n",
       "        text-align: right;\n",
       "    }\n",
       "</style>\n",
       "<table border=\"1\" class=\"dataframe\">\n",
       "  <thead>\n",
       "    <tr style=\"text-align: right;\">\n",
       "      <th></th>\n",
       "      <th>HeartDisease</th>\n",
       "      <th>BMI</th>\n",
       "      <th>Smoking</th>\n",
       "      <th>AlcoholDrinking</th>\n",
       "      <th>Stroke</th>\n",
       "      <th>PhysicalHealth</th>\n",
       "      <th>MentalHealth</th>\n",
       "      <th>DiffWalking</th>\n",
       "      <th>Sex</th>\n",
       "      <th>AgeCategory</th>\n",
       "      <th>Race</th>\n",
       "      <th>Diabetic</th>\n",
       "      <th>PhysicalActivity</th>\n",
       "      <th>GenHealth</th>\n",
       "      <th>SleepTime</th>\n",
       "      <th>Asthma</th>\n",
       "      <th>KidneyDisease</th>\n",
       "      <th>SkinCancer</th>\n",
       "    </tr>\n",
       "  </thead>\n",
       "  <tbody>\n",
       "    <tr>\n",
       "      <th>0</th>\n",
       "      <td>No</td>\n",
       "      <td>16.60</td>\n",
       "      <td>Yes</td>\n",
       "      <td>No</td>\n",
       "      <td>No</td>\n",
       "      <td>3.0</td>\n",
       "      <td>30.0</td>\n",
       "      <td>No</td>\n",
       "      <td>Female</td>\n",
       "      <td>55-59</td>\n",
       "      <td>White</td>\n",
       "      <td>Yes</td>\n",
       "      <td>Yes</td>\n",
       "      <td>Very good</td>\n",
       "      <td>5.0</td>\n",
       "      <td>Yes</td>\n",
       "      <td>No</td>\n",
       "      <td>Yes</td>\n",
       "    </tr>\n",
       "    <tr>\n",
       "      <th>1</th>\n",
       "      <td>No</td>\n",
       "      <td>20.34</td>\n",
       "      <td>No</td>\n",
       "      <td>No</td>\n",
       "      <td>Yes</td>\n",
       "      <td>0.0</td>\n",
       "      <td>0.0</td>\n",
       "      <td>No</td>\n",
       "      <td>Female</td>\n",
       "      <td>80 or older</td>\n",
       "      <td>White</td>\n",
       "      <td>No</td>\n",
       "      <td>Yes</td>\n",
       "      <td>Very good</td>\n",
       "      <td>7.0</td>\n",
       "      <td>No</td>\n",
       "      <td>No</td>\n",
       "      <td>No</td>\n",
       "    </tr>\n",
       "    <tr>\n",
       "      <th>2</th>\n",
       "      <td>No</td>\n",
       "      <td>26.58</td>\n",
       "      <td>Yes</td>\n",
       "      <td>No</td>\n",
       "      <td>No</td>\n",
       "      <td>20.0</td>\n",
       "      <td>30.0</td>\n",
       "      <td>No</td>\n",
       "      <td>Male</td>\n",
       "      <td>65-69</td>\n",
       "      <td>White</td>\n",
       "      <td>Yes</td>\n",
       "      <td>Yes</td>\n",
       "      <td>Fair</td>\n",
       "      <td>8.0</td>\n",
       "      <td>Yes</td>\n",
       "      <td>No</td>\n",
       "      <td>No</td>\n",
       "    </tr>\n",
       "    <tr>\n",
       "      <th>3</th>\n",
       "      <td>No</td>\n",
       "      <td>24.21</td>\n",
       "      <td>No</td>\n",
       "      <td>No</td>\n",
       "      <td>No</td>\n",
       "      <td>0.0</td>\n",
       "      <td>0.0</td>\n",
       "      <td>No</td>\n",
       "      <td>Female</td>\n",
       "      <td>75-79</td>\n",
       "      <td>White</td>\n",
       "      <td>No</td>\n",
       "      <td>No</td>\n",
       "      <td>Good</td>\n",
       "      <td>6.0</td>\n",
       "      <td>No</td>\n",
       "      <td>No</td>\n",
       "      <td>Yes</td>\n",
       "    </tr>\n",
       "    <tr>\n",
       "      <th>4</th>\n",
       "      <td>No</td>\n",
       "      <td>23.71</td>\n",
       "      <td>No</td>\n",
       "      <td>No</td>\n",
       "      <td>No</td>\n",
       "      <td>28.0</td>\n",
       "      <td>0.0</td>\n",
       "      <td>Yes</td>\n",
       "      <td>Female</td>\n",
       "      <td>40-44</td>\n",
       "      <td>White</td>\n",
       "      <td>No</td>\n",
       "      <td>Yes</td>\n",
       "      <td>Very good</td>\n",
       "      <td>8.0</td>\n",
       "      <td>No</td>\n",
       "      <td>No</td>\n",
       "      <td>No</td>\n",
       "    </tr>\n",
       "  </tbody>\n",
       "</table>\n",
       "</div>"
      ],
      "text/plain": [
       "  HeartDisease    BMI Smoking AlcoholDrinking Stroke  PhysicalHealth  \\\n",
       "0           No  16.60     Yes              No     No             3.0   \n",
       "1           No  20.34      No              No    Yes             0.0   \n",
       "2           No  26.58     Yes              No     No            20.0   \n",
       "3           No  24.21      No              No     No             0.0   \n",
       "4           No  23.71      No              No     No            28.0   \n",
       "\n",
       "   MentalHealth DiffWalking     Sex  AgeCategory   Race Diabetic  \\\n",
       "0          30.0          No  Female        55-59  White      Yes   \n",
       "1           0.0          No  Female  80 or older  White       No   \n",
       "2          30.0          No    Male        65-69  White      Yes   \n",
       "3           0.0          No  Female        75-79  White       No   \n",
       "4           0.0         Yes  Female        40-44  White       No   \n",
       "\n",
       "  PhysicalActivity  GenHealth  SleepTime Asthma KidneyDisease SkinCancer  \n",
       "0              Yes  Very good        5.0    Yes            No        Yes  \n",
       "1              Yes  Very good        7.0     No            No         No  \n",
       "2              Yes       Fair        8.0    Yes            No         No  \n",
       "3               No       Good        6.0     No            No        Yes  \n",
       "4              Yes  Very good        8.0     No            No         No  "
      ]
     },
     "execution_count": 4,
     "metadata": {},
     "output_type": "execute_result"
    }
   ],
   "source": [
    "df = pd.read_csv('./heart_2020_cleaned.csv')\n",
    "df.head()"
   ]
  },
  {
   "cell_type": "markdown",
   "metadata": {},
   "source": [
    "# Data Understanding"
   ]
  },
  {
   "cell_type": "code",
   "execution_count": 5,
   "metadata": {},
   "outputs": [
    {
     "name": "stdout",
     "output_type": "stream",
     "text": [
      "The number of Yes Value has 8.56%\n"
     ]
    }
   ],
   "source": [
    "No_Value = df.HeartDisease.value_counts()[0]\n",
    "Yes_Value = df.HeartDisease.value_counts()[1]\n",
    "print(\"The number of Yes Value has {}%\".format(((Yes_Value/len(df))*100).round(2)))"
   ]
  },
  {
   "cell_type": "markdown",
   "metadata": {},
   "source": [
    "A dataset that consists of one class is in the majority and if the class has above 90% weightage and another class has less than 10% weightage then the dataset is imbalanced. In this dataset, class Yes for HeartDisease takes only 8% of the whole dataset, the rest 92% is from class No. This is a serious bias towards class No."
   ]
  },
  {
   "cell_type": "code",
   "execution_count": 6,
   "metadata": {},
   "outputs": [
    {
     "data": {
      "text/plain": [
       "Text(0.5, 1.0, 'Heart Disease')"
      ]
     },
     "execution_count": 6,
     "metadata": {},
     "output_type": "execute_result"
    },
    {
     "data": {
      "image/png": "[encoded data removed]",
      "text/plain": [
       "<Figure size 432x288 with 1 Axes>"
      ]
     },
     "metadata": {
      "needs_background": "light"
     },
     "output_type": "display_data"
    },
    {
     "data": {
      "image/png": "[encoded data removed]",
      "text/plain": [
       "<Figure size 432x432 with 1 Axes>"
      ]
     },
     "metadata": {},
     "output_type": "display_data"
    }
   ],
   "source": [
    "df['HeartDisease'].value_counts().plot(kind='bar', title='Count (HeartDisease)', color=['r', 'g'])\n",
    "plt.figure(figsize=(6,6))\n",
    "\n",
    "# Pie plot\n",
    "df['HeartDisease'].value_counts().plot.pie(explode=[0.1,0.1], autopct='%1.1f%%', shadow=True, textprops={'fontsize':16}).set_title(\"Heart Disease\")"
   ]
  },
  {
   "cell_type": "code",
   "execution_count": 7,
   "metadata": {},
   "outputs": [
    {
     "data": {
      "text/plain": [
       "Index(['HeartDisease', 'BMI', 'Smoking', 'AlcoholDrinking', 'Stroke',\n",
       "       'PhysicalHealth', 'MentalHealth', 'DiffWalking', 'Sex', 'AgeCategory',\n",
       "       'Race', 'Diabetic', 'PhysicalActivity', 'GenHealth', 'SleepTime',\n",
       "       'Asthma', 'KidneyDisease', 'SkinCancer'],\n",
       "      dtype='object')"
      ]
     },
     "execution_count": 7,
     "metadata": {},
     "output_type": "execute_result"
    }
   ],
   "source": [
    "features = df.columns\n",
    "features"
   ]
  },
  {
   "cell_type": "markdown",
   "metadata": {},
   "source": [
    "The data of people who have heart disease has only 8.56% in the dataset. So this shows the unbalanced data "
   ]
  },
  {
   "cell_type": "code",
   "execution_count": 8,
   "metadata": {},
   "outputs": [
    {
     "data": {
      "text/plain": [
       "40.18"
      ]
     },
     "execution_count": 8,
     "metadata": {},
     "output_type": "execute_result"
    }
   ],
   "source": [
    "max_thresold= df.BMI.quantile( 0.95)\n",
    "max_thresold"
   ]
  },
  {
   "cell_type": "code",
   "execution_count": 10,
   "metadata": {},
   "outputs": [
    {
     "data": {
      "text/plain": [
       "<AxesSubplot:xlabel='BMI'>"
      ]
     },
     "execution_count": 10,
     "metadata": {},
     "output_type": "execute_result"
    },
    {
     "data": {
      "image/png": "[encoded data removed]",
      "text/plain": [
       "<Figure size 432x288 with 1 Axes>"
      ]
     },
     "metadata": {
      "needs_background": "light"
     },
     "output_type": "display_data"
    }
   ],
   "source": [
    "sns.boxplot(df['BMI'])"
   ]
  },
  {
   "cell_type": "code",
   "execution_count": 11,
   "metadata": {},
   "outputs": [
    {
     "data": {
      "text/plain": [
       "(15900, 18)"
      ]
     },
     "execution_count": 11,
     "metadata": {},
     "output_type": "execute_result"
    }
   ],
   "source": [
    "df[df.BMI>max_thresold].shape"
   ]
  },
  {
   "cell_type": "code",
   "execution_count": 12,
   "metadata": {},
   "outputs": [
    {
     "data": {
      "text/plain": [
       "(3.0, 12.0)"
      ]
     },
     "execution_count": 12,
     "metadata": {},
     "output_type": "execute_result"
    }
   ],
   "source": [
    "min_threshold,max_thresoldS = df.SleepTime.quantile([0.01, 0.99])\n",
    "min_threshold,max_thresoldS"
   ]
  },
  {
   "cell_type": "code",
   "execution_count": 13,
   "metadata": {},
   "outputs": [
    {
     "data": {
      "text/plain": [
       "<AxesSubplot:xlabel='SleepTime'>"
      ]
     },
     "execution_count": 13,
     "metadata": {},
     "output_type": "execute_result"
    },
    {
     "data": {
      "image/png": "[encoded data removed]",
      "text/plain": [
       "<Figure size 432x288 with 1 Axes>"
      ]
     },
     "metadata": {
      "needs_background": "light"
     },
     "output_type": "display_data"
    }
   ],
   "source": [
    "sns.boxplot(df['SleepTime'])"
   ]
  },
  {
   "cell_type": "code",
   "execution_count": 14,
   "metadata": {},
   "outputs": [
    {
     "data": {
      "text/plain": [
       "(999, 18)"
      ]
     },
     "execution_count": 14,
     "metadata": {},
     "output_type": "execute_result"
    }
   ],
   "source": [
    "df[df.SleepTime>max_thresoldS].shape"
   ]
  },
  {
   "cell_type": "code",
   "execution_count": 15,
   "metadata": {},
   "outputs": [
    {
     "data": {
      "text/plain": [
       "(1339, 18)"
      ]
     },
     "execution_count": 15,
     "metadata": {},
     "output_type": "execute_result"
    }
   ],
   "source": [
    "df[df.SleepTime<min_threshold].shape"
   ]
  },
  {
   "cell_type": "code",
   "execution_count": 16,
   "metadata": {},
   "outputs": [
    {
     "data": {
      "text/plain": [
       "(297732, 18)"
      ]
     },
     "execution_count": 16,
     "metadata": {},
     "output_type": "execute_result"
    }
   ],
   "source": [
    "df=df[(df.SleepTime < max_thresoldS)&(df.SleepTime > min_threshold)&(df.BMI <max_thresold)]\n",
    "\n",
    "df.shape"
   ]
  },
  {
   "cell_type": "code",
   "execution_count": 17,
   "metadata": {},
   "outputs": [
    {
     "data": {
      "text/plain": [
       "<AxesSubplot:xlabel='PhysicalHealth'>"
      ]
     },
     "execution_count": 17,
     "metadata": {},
     "output_type": "execute_result"
    },
    {
     "data": {
      "image/png": "[encoded data removed]",
      "text/plain": [
       "<Figure size 432x288 with 1 Axes>"
      ]
     },
     "metadata": {
      "needs_background": "light"
     },
     "output_type": "display_data"
    }
   ],
   "source": [
    "sns.boxplot(df['PhysicalHealth'])"
   ]
  },
  {
   "cell_type": "code",
   "execution_count": 18,
   "metadata": {},
   "outputs": [
    {
     "data": {
      "text/plain": [
       "5.0"
      ]
     },
     "execution_count": 18,
     "metadata": {},
     "output_type": "execute_result"
    }
   ],
   "source": [
    "max_thresold= df.PhysicalHealth.quantile( 0.85)\n",
    "max_thresold"
   ]
  },
  {
   "cell_type": "code",
   "execution_count": 19,
   "metadata": {},
   "outputs": [
    {
     "data": {
      "text/plain": [
       "(40282, 18)"
      ]
     },
     "execution_count": 19,
     "metadata": {},
     "output_type": "execute_result"
    }
   ],
   "source": [
    "df[df.PhysicalHealth>max_thresold].shape"
   ]
  },
  {
   "cell_type": "code",
   "execution_count": 20,
   "metadata": {},
   "outputs": [
    {
     "data": {
      "text/plain": [
       "(250568, 18)"
      ]
     },
     "execution_count": 20,
     "metadata": {},
     "output_type": "execute_result"
    }
   ],
   "source": [
    "df=df[(df.PhysicalHealth <max_thresold)]\n",
    "\n",
    "df.shape"
   ]
  },
  {
   "cell_type": "code",
   "execution_count": 21,
   "metadata": {},
   "outputs": [
    {
     "data": {
      "text/plain": [
       "<AxesSubplot:xlabel='MentalHealth'>"
      ]
     },
     "execution_count": 21,
     "metadata": {},
     "output_type": "execute_result"
    },
    {
     "data": {
      "image/png": "[encoded data removed]",
      "text/plain": [
       "<Figure size 432x288 with 1 Axes>"
      ]
     },
     "metadata": {
      "needs_background": "light"
     },
     "output_type": "display_data"
    }
   ],
   "source": [
    "sns.boxplot(df['MentalHealth'])"
   ]
  },
  {
   "cell_type": "code",
   "execution_count": 22,
   "metadata": {},
   "outputs": [
    {
     "data": {
      "text/plain": [
       "5.0"
      ]
     },
     "execution_count": 22,
     "metadata": {},
     "output_type": "execute_result"
    }
   ],
   "source": [
    "max_thresold= df.MentalHealth.quantile( 0.85)\n",
    "max_thresold"
   ]
  },
  {
   "cell_type": "code",
   "execution_count": 23,
   "metadata": {},
   "outputs": [
    {
     "data": {
      "text/plain": [
       "(34096, 18)"
      ]
     },
     "execution_count": 23,
     "metadata": {},
     "output_type": "execute_result"
    }
   ],
   "source": [
    "df[df.MentalHealth>max_thresold].shape"
   ]
  },
  {
   "cell_type": "code",
   "execution_count": 24,
   "metadata": {},
   "outputs": [
    {
     "data": {
      "text/plain": [
       "(206010, 18)"
      ]
     },
     "execution_count": 24,
     "metadata": {},
     "output_type": "execute_result"
    }
   ],
   "source": [
    "df=df[(df.MentalHealth <max_thresold)]\n",
    "\n",
    "df.shape"
   ]
  },
  {
   "cell_type": "markdown",
   "metadata": {},
   "source": [
    "Remove duplicated"
   ]
  },
  {
   "cell_type": "code",
   "execution_count": 25,
   "metadata": {},
   "outputs": [
    {
     "data": {
      "text/plain": [
       "17775"
      ]
     },
     "execution_count": 25,
     "metadata": {},
     "output_type": "execute_result"
    }
   ],
   "source": [
    "df.duplicated().sum()"
   ]
  },
  {
   "cell_type": "code",
   "execution_count": 26,
   "metadata": {},
   "outputs": [
    {
     "data": {
      "text/plain": [
       "0"
      ]
     },
     "execution_count": 26,
     "metadata": {},
     "output_type": "execute_result"
    }
   ],
   "source": [
    "df.drop_duplicates(inplace=True)\n",
    "df.duplicated().sum()"
   ]
  },
  {
   "cell_type": "code",
   "execution_count": 27,
   "metadata": {},
   "outputs": [
    {
     "data": {
      "text/plain": [
       "HeartDisease        0\n",
       "BMI                 0\n",
       "Smoking             0\n",
       "AlcoholDrinking     0\n",
       "Stroke              0\n",
       "PhysicalHealth      0\n",
       "MentalHealth        0\n",
       "DiffWalking         0\n",
       "Sex                 0\n",
       "AgeCategory         0\n",
       "Race                0\n",
       "Diabetic            0\n",
       "PhysicalActivity    0\n",
       "GenHealth           0\n",
       "SleepTime           0\n",
       "Asthma              0\n",
       "KidneyDisease       0\n",
       "SkinCancer          0\n",
       "dtype: int64"
      ]
     },
     "execution_count": 27,
     "metadata": {},
     "output_type": "execute_result"
    }
   ],
   "source": [
    "df.isna().sum()"
   ]
  },
  {
   "cell_type": "code",
   "execution_count": 28,
   "metadata": {},
   "outputs": [],
   "source": [
    "df['HeartDisease'].replace({'No':0,'Yes':1}, inplace=True)\n",
    "\n",
    "df['Smoking'].replace({'No':0,'Yes':1}, inplace=True)\n",
    "\n",
    "df['AlcoholDrinking'].replace({'No':0,'Yes':1}, inplace=True)\n",
    "\n",
    "df['Stroke'].replace({'No':0,'Yes':1}, inplace=True)\n",
    "\n",
    "df['DiffWalking'].replace({'No':0,'Yes':1}, inplace=True)\n",
    "\n",
    "df['Diabetic'].replace({'No':0,'No, borderline diabetes':0,'Yes (during pregnancy)':1,'Yes':1}, inplace=True)\n",
    "\n",
    "df['PhysicalActivity'].replace({'No':0,'Yes':1}, inplace=True)\n",
    "df['Asthma'].replace({'No':0,'Yes':1}, inplace=True)\n",
    "\n",
    "df['KidneyDisease'].replace({'No':0,'Yes':1}, inplace=True)\n",
    "\n",
    "df['SkinCancer'].replace({'No':0,'Yes':1}, inplace=True)\n",
    "\n",
    "df['Sex'].replace({'Male':0,'Female':1}, inplace=True)\n",
    "\n",
    "df['AgeCategory'].replace({'18-24':0,'25-29':1,'30-34':2,'35-39':3,'40-44':4,'45-49':5,'50-54':6,'55-59':7,'60-64':8,'65-69':9,'70-74':10,'75-79':11,'80 or older':12}, inplace=True)\n",
    "\n",
    "df['Race'].replace({'White':0,'Hispanic':1,'Black':2,'Asian':3,'American Indian/Alaskan Native':4,'Other':5}, inplace=True)\n",
    "\n",
    "df['GenHealth'].replace({'Excellent':0,'Very good':1,'Good':2,'Fair':3,'Poor':4}, inplace=True)"
   ]
  },
  {
   "cell_type": "code",
   "execution_count": 32,
   "metadata": {},
   "outputs": [
    {
     "data": {
      "text/html": [
       "<div>\n",
       "<style scoped>\n",
       "    .dataframe tbody tr th:only-of-type {\n",
       "        vertical-align: middle;\n",
       "    }\n",
       "\n",
       "    .dataframe tbody tr th {\n",
       "        vertical-align: top;\n",
       "    }\n",
       "\n",
       "    .dataframe thead th {\n",
       "        text-align: right;\n",
       "    }\n",
       "</style>\n",
       "<table border=\"1\" class=\"dataframe\">\n",
       "  <thead>\n",
       "    <tr style=\"text-align: right;\">\n",
       "      <th></th>\n",
       "      <th>HeartDisease</th>\n",
       "      <th>BMI</th>\n",
       "      <th>Smoking</th>\n",
       "      <th>AlcoholDrinking</th>\n",
       "      <th>Stroke</th>\n",
       "      <th>PhysicalHealth</th>\n",
       "      <th>MentalHealth</th>\n",
       "      <th>DiffWalking</th>\n",
       "      <th>Sex</th>\n",
       "      <th>AgeCategory</th>\n",
       "      <th>Race</th>\n",
       "      <th>Diabetic</th>\n",
       "      <th>PhysicalActivity</th>\n",
       "      <th>GenHealth</th>\n",
       "      <th>SleepTime</th>\n",
       "      <th>Asthma</th>\n",
       "      <th>KidneyDisease</th>\n",
       "      <th>SkinCancer</th>\n",
       "    </tr>\n",
       "  </thead>\n",
       "  <tbody>\n",
       "    <tr>\n",
       "      <th>count</th>\n",
       "      <td>188235.000000</td>\n",
       "      <td>188235.000000</td>\n",
       "      <td>188235.000000</td>\n",
       "      <td>188235.000000</td>\n",
       "      <td>188235.000000</td>\n",
       "      <td>188235.000000</td>\n",
       "      <td>188235.000000</td>\n",
       "      <td>188235.000000</td>\n",
       "      <td>188235.000000</td>\n",
       "      <td>188235.000000</td>\n",
       "      <td>188235.000000</td>\n",
       "      <td>188235.000000</td>\n",
       "      <td>188235.000000</td>\n",
       "      <td>188235.000000</td>\n",
       "      <td>188235.000000</td>\n",
       "      <td>188235.000000</td>\n",
       "      <td>188235.000000</td>\n",
       "      <td>188235.000000</td>\n",
       "    </tr>\n",
       "    <tr>\n",
       "      <th>mean</th>\n",
       "      <td>0.075135</td>\n",
       "      <td>27.381782</td>\n",
       "      <td>0.393816</td>\n",
       "      <td>0.068021</td>\n",
       "      <td>0.029777</td>\n",
       "      <td>0.284341</td>\n",
       "      <td>0.401854</td>\n",
       "      <td>0.078524</td>\n",
       "      <td>0.488931</td>\n",
       "      <td>6.794448</td>\n",
       "      <td>0.558164</td>\n",
       "      <td>0.120982</td>\n",
       "      <td>0.807953</td>\n",
       "      <td>1.171323</td>\n",
       "      <td>7.176567</td>\n",
       "      <td>0.108232</td>\n",
       "      <td>0.028236</td>\n",
       "      <td>0.103238</td>\n",
       "    </tr>\n",
       "    <tr>\n",
       "      <th>std</th>\n",
       "      <td>0.263609</td>\n",
       "      <td>4.846994</td>\n",
       "      <td>0.488596</td>\n",
       "      <td>0.251783</td>\n",
       "      <td>0.169971</td>\n",
       "      <td>0.804821</td>\n",
       "      <td>0.955471</td>\n",
       "      <td>0.268995</td>\n",
       "      <td>0.499879</td>\n",
       "      <td>3.545073</td>\n",
       "      <td>1.197214</td>\n",
       "      <td>0.326107</td>\n",
       "      <td>0.393911</td>\n",
       "      <td>0.886884</td>\n",
       "      <td>1.121817</td>\n",
       "      <td>0.310674</td>\n",
       "      <td>0.165647</td>\n",
       "      <td>0.304270</td>\n",
       "    </tr>\n",
       "    <tr>\n",
       "      <th>min</th>\n",
       "      <td>0.000000</td>\n",
       "      <td>12.080000</td>\n",
       "      <td>0.000000</td>\n",
       "      <td>0.000000</td>\n",
       "      <td>0.000000</td>\n",
       "      <td>0.000000</td>\n",
       "      <td>0.000000</td>\n",
       "      <td>0.000000</td>\n",
       "      <td>0.000000</td>\n",
       "      <td>0.000000</td>\n",
       "      <td>0.000000</td>\n",
       "      <td>0.000000</td>\n",
       "      <td>0.000000</td>\n",
       "      <td>0.000000</td>\n",
       "      <td>4.000000</td>\n",
       "      <td>0.000000</td>\n",
       "      <td>0.000000</td>\n",
       "      <td>0.000000</td>\n",
       "    </tr>\n",
       "    <tr>\n",
       "      <th>25%</th>\n",
       "      <td>0.000000</td>\n",
       "      <td>23.780000</td>\n",
       "      <td>0.000000</td>\n",
       "      <td>0.000000</td>\n",
       "      <td>0.000000</td>\n",
       "      <td>0.000000</td>\n",
       "      <td>0.000000</td>\n",
       "      <td>0.000000</td>\n",
       "      <td>0.000000</td>\n",
       "      <td>4.000000</td>\n",
       "      <td>0.000000</td>\n",
       "      <td>0.000000</td>\n",
       "      <td>1.000000</td>\n",
       "      <td>0.000000</td>\n",
       "      <td>6.000000</td>\n",
       "      <td>0.000000</td>\n",
       "      <td>0.000000</td>\n",
       "      <td>0.000000</td>\n",
       "    </tr>\n",
       "    <tr>\n",
       "      <th>50%</th>\n",
       "      <td>0.000000</td>\n",
       "      <td>26.940000</td>\n",
       "      <td>0.000000</td>\n",
       "      <td>0.000000</td>\n",
       "      <td>0.000000</td>\n",
       "      <td>0.000000</td>\n",
       "      <td>0.000000</td>\n",
       "      <td>0.000000</td>\n",
       "      <td>0.000000</td>\n",
       "      <td>7.000000</td>\n",
       "      <td>0.000000</td>\n",
       "      <td>0.000000</td>\n",
       "      <td>1.000000</td>\n",
       "      <td>1.000000</td>\n",
       "      <td>7.000000</td>\n",
       "      <td>0.000000</td>\n",
       "      <td>0.000000</td>\n",
       "      <td>0.000000</td>\n",
       "    </tr>\n",
       "    <tr>\n",
       "      <th>75%</th>\n",
       "      <td>0.000000</td>\n",
       "      <td>30.540000</td>\n",
       "      <td>1.000000</td>\n",
       "      <td>0.000000</td>\n",
       "      <td>0.000000</td>\n",
       "      <td>0.000000</td>\n",
       "      <td>0.000000</td>\n",
       "      <td>0.000000</td>\n",
       "      <td>1.000000</td>\n",
       "      <td>10.000000</td>\n",
       "      <td>0.000000</td>\n",
       "      <td>0.000000</td>\n",
       "      <td>1.000000</td>\n",
       "      <td>2.000000</td>\n",
       "      <td>8.000000</td>\n",
       "      <td>0.000000</td>\n",
       "      <td>0.000000</td>\n",
       "      <td>0.000000</td>\n",
       "    </tr>\n",
       "    <tr>\n",
       "      <th>max</th>\n",
       "      <td>1.000000</td>\n",
       "      <td>40.170000</td>\n",
       "      <td>1.000000</td>\n",
       "      <td>1.000000</td>\n",
       "      <td>1.000000</td>\n",
       "      <td>4.000000</td>\n",
       "      <td>4.000000</td>\n",
       "      <td>1.000000</td>\n",
       "      <td>1.000000</td>\n",
       "      <td>12.000000</td>\n",
       "      <td>5.000000</td>\n",
       "      <td>1.000000</td>\n",
       "      <td>1.000000</td>\n",
       "      <td>4.000000</td>\n",
       "      <td>11.000000</td>\n",
       "      <td>1.000000</td>\n",
       "      <td>1.000000</td>\n",
       "      <td>1.000000</td>\n",
       "    </tr>\n",
       "  </tbody>\n",
       "</table>\n",
       "</div>"
      ],
      "text/plain": [
       "        HeartDisease            BMI        Smoking  AlcoholDrinking  \\\n",
       "count  188235.000000  188235.000000  188235.000000    188235.000000   \n",
       "mean        0.075135      27.381782       0.393816         0.068021   \n",
       "std         0.263609       4.846994       0.488596         0.251783   \n",
       "min         0.000000      12.080000       0.000000         0.000000   \n",
       "25%         0.000000      23.780000       0.000000         0.000000   \n",
       "50%         0.000000      26.940000       0.000000         0.000000   \n",
       "75%         0.000000      30.540000       1.000000         0.000000   \n",
       "max         1.000000      40.170000       1.000000         1.000000   \n",
       "\n",
       "              Stroke  PhysicalHealth   MentalHealth    DiffWalking  \\\n",
       "count  188235.000000   188235.000000  188235.000000  188235.000000   \n",
       "mean        0.029777        0.284341       0.401854       0.078524   \n",
       "std         0.169971        0.804821       0.955471       0.268995   \n",
       "min         0.000000        0.000000       0.000000       0.000000   \n",
       "25%         0.000000        0.000000       0.000000       0.000000   \n",
       "50%         0.000000        0.000000       0.000000       0.000000   \n",
       "75%         0.000000        0.000000       0.000000       0.000000   \n",
       "max         1.000000        4.000000       4.000000       1.000000   \n",
       "\n",
       "                 Sex    AgeCategory           Race       Diabetic  \\\n",
       "count  188235.000000  188235.000000  188235.000000  188235.000000   \n",
       "mean        0.488931       6.794448       0.558164       0.120982   \n",
       "std         0.499879       3.545073       1.197214       0.326107   \n",
       "min         0.000000       0.000000       0.000000       0.000000   \n",
       "25%         0.000000       4.000000       0.000000       0.000000   \n",
       "50%         0.000000       7.000000       0.000000       0.000000   \n",
       "75%         1.000000      10.000000       0.000000       0.000000   \n",
       "max         1.000000      12.000000       5.000000       1.000000   \n",
       "\n",
       "       PhysicalActivity      GenHealth      SleepTime         Asthma  \\\n",
       "count     188235.000000  188235.000000  188235.000000  188235.000000   \n",
       "mean           0.807953       1.171323       7.176567       0.108232   \n",
       "std            0.393911       0.886884       1.121817       0.310674   \n",
       "min            0.000000       0.000000       4.000000       0.000000   \n",
       "25%            1.000000       0.000000       6.000000       0.000000   \n",
       "50%            1.000000       1.000000       7.000000       0.000000   \n",
       "75%            1.000000       2.000000       8.000000       0.000000   \n",
       "max            1.000000       4.000000      11.000000       1.000000   \n",
       "\n",
       "       KidneyDisease     SkinCancer  \n",
       "count  188235.000000  188235.000000  \n",
       "mean        0.028236       0.103238  \n",
       "std         0.165647       0.304270  \n",
       "min         0.000000       0.000000  \n",
       "25%         0.000000       0.000000  \n",
       "50%         0.000000       0.000000  \n",
       "75%         0.000000       0.000000  \n",
       "max         1.000000       1.000000  "
      ]
     },
     "execution_count": 32,
     "metadata": {},
     "output_type": "execute_result"
    }
   ],
   "source": [
    "df.describe()"
   ]
  },
  {
   "cell_type": "markdown",
   "metadata": {},
   "source": [
    "# Random over sampling-Oversampling methods duplicate or create new synthetic examples in the minority class"
   ]
  },
  {
   "cell_type": "code",
   "execution_count": 33,
   "metadata": {},
   "outputs": [
    {
     "name": "stdout",
     "output_type": "stream",
     "text": [
      "(174092, 18)\n",
      "(14143, 18)\n"
     ]
    }
   ],
   "source": [
    "count_class_0, count_class_1 = df.HeartDisease.value_counts()\n",
    "\n",
    "# Divide by class\n",
    "class_0 = df[df['HeartDisease'] == 0]\n",
    "class_1 = df[df['HeartDisease'] == 1]\n",
    "print(class_0.shape)\n",
    "print(class_1.shape)"
   ]
  },
  {
   "cell_type": "code",
   "execution_count": 34,
   "metadata": {},
   "outputs": [
    {
     "data": {
      "text/plain": [
       "0    174092\n",
       "1     14143\n",
       "Name: HeartDisease, dtype: int64"
      ]
     },
     "execution_count": 34,
     "metadata": {},
     "output_type": "execute_result"
    }
   ],
   "source": [
    " df.HeartDisease.value_counts()"
   ]
  },
  {
   "cell_type": "code",
   "execution_count": 35,
   "metadata": {},
   "outputs": [
    {
     "name": "stdout",
     "output_type": "stream",
     "text": [
      "0    174092\n",
      "1    174092\n",
      "Name: HeartDisease, dtype: int64\n"
     ]
    }
   ],
   "source": [
    "class_1=class_1.sample(count_class_0,replace=True)\n",
    "data = pd.concat([class_0, class_1], axis=0)\n",
    "print(data.HeartDisease.value_counts())"
   ]
  },
  {
   "cell_type": "code",
   "execution_count": 36,
   "metadata": {},
   "outputs": [],
   "source": [
    "count_class_no, count_class_yes = df['HeartDisease'].value_counts()\n",
    "\n",
    "# divide the class\n",
    "df_class_yes = df[df['HeartDisease'] == 1]\n",
    "df_class_no = df[df['HeartDisease'] == 0]"
   ]
  },
  {
   "cell_type": "code",
   "execution_count": 37,
   "metadata": {},
   "outputs": [
    {
     "name": "stdout",
     "output_type": "stream",
     "text": [
      "Random over-sampling\n",
      "0    174092\n",
      "1    174092\n",
      "Name: HeartDisease, dtype: int64\n"
     ]
    },
    {
     "data": {
      "text/plain": [
       "Text(0.5, 1.0, 'Heart Disease')"
      ]
     },
     "execution_count": 37,
     "metadata": {},
     "output_type": "execute_result"
    },
    {
     "data": {
      "image/png": "[encoded data removed]",
      "text/plain": [
       "<Figure size 432x288 with 1 Axes>"
      ]
     },
     "metadata": {
      "needs_background": "light"
     },
     "output_type": "display_data"
    },
    {
     "data": {
      "image/png": "[encoded data removed]",
      "text/plain": [
       "<Figure size 432x432 with 1 Axes>"
      ]
     },
     "metadata": {},
     "output_type": "display_data"
    }
   ],
   "source": [
    "df_class_yes_over = df_class_yes.sample(count_class_no, replace=True)\n",
    "df_test_over = pd.concat([df_class_no, df_class_yes_over], axis=0)\n",
    "\n",
    "print('Random over-sampling')\n",
    "print(df_test_over['HeartDisease'].value_counts())\n",
    "\n",
    "df_test_over['HeartDisease'].value_counts().plot(kind='bar', title='Count (HeartDisease)', color=['r', 'g'])\n",
    "plt.figure(figsize=(6,6))\n",
    "\n",
    "# Pie plot\n",
    "df_test_over['HeartDisease'].value_counts().plot.pie(explode=[0.1,0.1], autopct='%1.1f%%', shadow=True, textprops={'fontsize':16}).set_title(\"Heart Disease\")"
   ]
  },
  {
   "cell_type": "code",
   "execution_count": 38,
   "metadata": {},
   "outputs": [
    {
     "name": "stdout",
     "output_type": "stream",
     "text": [
      "train.shape : (278547, 18)\n",
      "test.shape : (69637, 18)\n"
     ]
    }
   ],
   "source": [
    "train, test = train_test_split(df_test_over,stratify=df_test_over['HeartDisease'],test_size=.2,random_state=0)\n",
    "print(\"train.shape : {}\".format(train.shape))\n",
    "print(\"test.shape : {}\".format(test.shape))"
   ]
  },
  {
   "cell_type": "code",
   "execution_count": 39,
   "metadata": {},
   "outputs": [
    {
     "data": {
      "text/html": [
       "<div>\n",
       "<style scoped>\n",
       "    .dataframe tbody tr th:only-of-type {\n",
       "        vertical-align: middle;\n",
       "    }\n",
       "\n",
       "    .dataframe tbody tr th {\n",
       "        vertical-align: top;\n",
       "    }\n",
       "\n",
       "    .dataframe thead th {\n",
       "        text-align: right;\n",
       "    }\n",
       "</style>\n",
       "<table border=\"1\" class=\"dataframe\">\n",
       "  <thead>\n",
       "    <tr style=\"text-align: right;\">\n",
       "      <th></th>\n",
       "      <th>HeartDisease</th>\n",
       "      <th>Stroke</th>\n",
       "      <th>Diabetic</th>\n",
       "      <th>KidneyDisease</th>\n",
       "      <th>SkinCancer</th>\n",
       "    </tr>\n",
       "  </thead>\n",
       "  <tbody>\n",
       "    <tr>\n",
       "      <th>1</th>\n",
       "      <td>0</td>\n",
       "      <td>1</td>\n",
       "      <td>0</td>\n",
       "      <td>0</td>\n",
       "      <td>0</td>\n",
       "    </tr>\n",
       "    <tr>\n",
       "      <th>3</th>\n",
       "      <td>0</td>\n",
       "      <td>0</td>\n",
       "      <td>0</td>\n",
       "      <td>0</td>\n",
       "      <td>1</td>\n",
       "    </tr>\n",
       "    <tr>\n",
       "      <th>8</th>\n",
       "      <td>0</td>\n",
       "      <td>0</td>\n",
       "      <td>0</td>\n",
       "      <td>1</td>\n",
       "      <td>0</td>\n",
       "    </tr>\n",
       "    <tr>\n",
       "      <th>11</th>\n",
       "      <td>0</td>\n",
       "      <td>0</td>\n",
       "      <td>0</td>\n",
       "      <td>0</td>\n",
       "      <td>0</td>\n",
       "    </tr>\n",
       "    <tr>\n",
       "      <th>12</th>\n",
       "      <td>0</td>\n",
       "      <td>0</td>\n",
       "      <td>1</td>\n",
       "      <td>0</td>\n",
       "      <td>0</td>\n",
       "    </tr>\n",
       "  </tbody>\n",
       "</table>\n",
       "</div>"
      ],
      "text/plain": [
       "    HeartDisease  Stroke  Diabetic  KidneyDisease  SkinCancer\n",
       "1              0       1         0              0           0\n",
       "3              0       0         0              0           1\n",
       "8              0       0         0              1           0\n",
       "11             0       0         0              0           0\n",
       "12             0       0         1              0           0"
      ]
     },
     "execution_count": 39,
     "metadata": {},
     "output_type": "execute_result"
    }
   ],
   "source": [
    "# Let us consider only the disease features\n",
    "diseases = df_test_over[['HeartDisease', 'Stroke', 'Diabetic', 'KidneyDisease', 'SkinCancer']]\n",
    "diseases.head()"
   ]
  },
  {
   "cell_type": "code",
   "execution_count": 40,
   "metadata": {},
   "outputs": [
    {
     "name": "stdout",
     "output_type": "stream",
     "text": [
      "The number of people with diabetes also having heart disease are\n",
      "0.7200790267235104\n",
      "The number of people with heart disease also having diabetes are\n",
      "0.27844473037244677\n"
     ]
    }
   ],
   "source": [
    " #understand if diabetes is influencing heart disease.\n",
    "diabetics = df_test_over[df_test_over.Diabetic==1]\n",
    "heart_d = sum(diabetics.HeartDisease)/len(diabetics)\n",
    "print(\"The number of people with diabetes also having heart disease are\")\n",
    "print(heart_d)\n",
    "\n",
    "heart_patients = df_test_over[df_test_over.HeartDisease==1]\n",
    "diabs = sum(heart_patients.Diabetic)/len(heart_patients)\n",
    "print(\"The number of people with heart disease also having diabetes are\")\n",
    "print(diabs)"
   ]
  },
  {
   "cell_type": "code",
   "execution_count": 41,
   "metadata": {},
   "outputs": [],
   "source": [
    "cat_features = df_test_over.select_dtypes(include=['object']).columns.tolist()"
   ]
  },
  {
   "cell_type": "code",
   "execution_count": 42,
   "metadata": {},
   "outputs": [],
   "source": [
    "def outlier(df_test_over, columns=None):\n",
    "    if columns == None:\n",
    "        columns = df_test_over.columns\n",
    "    for col in columns:\n",
    "        mean = df_test_over[col].mean()\n",
    "        std = df_test_over[col].std()\n",
    "        \n",
    "        border = np.abs(df[col] - mean) / std\n",
    "        \n",
    "        df_test_over = df_test_over[(border < 3.0)]\n",
    "    \n",
    "    return df_test_over"
   ]
  },
  {
   "cell_type": "code",
   "execution_count": 43,
   "metadata": {},
   "outputs": [],
   "source": [
    "def outlier_2(df_test_over, columns=None):\n",
    "    if columns == None:\n",
    "        columns = df.columns\n",
    "    for col in columns:\n",
    "        mean = df_test_over[col].mean()\n",
    "        std = df_test_over[col].std()\n",
    "        \n",
    "        border = np.abs(df[col] - mean) / std\n",
    "        \n",
    "        df_test_over = df_test_over[(border < 1.9)]\n",
    "    \n",
    "    return df_test_over\n"
   ]
  },
  {
   "cell_type": "code",
   "execution_count": 44,
   "metadata": {},
   "outputs": [],
   "source": [
    "def outlier_3(df_test_over, columns=None):\n",
    "    if columns == None:\n",
    "        columns = df.columns\n",
    "    for col in columns:\n",
    "        mean = df_test_over[col].mean()\n",
    "        std = df_test_over[col].std()\n",
    "        \n",
    "        border = np.abs(df_test_over[col] - mean) / std\n",
    "        \n",
    "        df_test_over = df_test_over[(border < 1.2)]\n",
    "    \n",
    "    return df_test_over"
   ]
  },
  {
   "cell_type": "code",
   "execution_count": 45,
   "metadata": {},
   "outputs": [
    {
     "name": "stdout",
     "output_type": "stream",
     "text": [
      "(278547, 18)\n",
      "(278173, 18)\n",
      "(261655, 18)\n",
      "(233678, 18)\n",
      "(210518, 18)\n"
     ]
    }
   ],
   "source": [
    "print(train.shape)\n",
    "train = outlier(train, ['SleepTime'])\n",
    "print(train.shape)\n",
    "train = outlier_2(train, ['BMI'])\n",
    "print(train.shape)\n",
    "train = outlier_3(train, ['PhysicalHealth'])\n",
    "print(train.shape)\n",
    "train = outlier_3(train, ['MentalHealth'])\n",
    "print(train.shape)"
   ]
  },
  {
   "cell_type": "code",
   "execution_count": 46,
   "metadata": {},
   "outputs": [
    {
     "name": "stdout",
     "output_type": "stream",
     "text": [
      "(69637, 18)\n",
      "(69532, 18)\n",
      "(65413, 18)\n",
      "(58534, 18)\n",
      "(52797, 18)\n"
     ]
    }
   ],
   "source": [
    "print(test.shape)\n",
    "test = outlier(test, ['SleepTime'])\n",
    "print(test.shape)\n",
    "test = outlier_2(test, ['BMI'])\n",
    "print(test.shape)\n",
    "test = outlier_3(test, ['PhysicalHealth'])\n",
    "print(test.shape)\n",
    "test = outlier_3(test, ['MentalHealth'])\n",
    "print(test.shape)"
   ]
  },
  {
   "cell_type": "code",
   "execution_count": 47,
   "metadata": {},
   "outputs": [
    {
     "data": {
      "image/png": "[encoded data removed]",
      "text/plain": [
       "<Figure size 1152x288 with 4 Axes>"
      ]
     },
     "metadata": {
      "needs_background": "light"
     },
     "output_type": "display_data"
    }
   ],
   "source": [
    "plt.subplots(1,4,figsize=(16,4))\n",
    "\n",
    "plt.subplot(141)\n",
    "sns.boxplot(train['SleepTime'],linewidth=1,palette='Set2')\n",
    "plt.subplot(142)\n",
    "sns.boxplot(train['BMI'],linewidth=1,palette='Set2')\n",
    "plt.subplot(143)\n",
    "sns.boxplot(train['PhysicalHealth'],linewidth=1,palette='Set2')\n",
    "plt.subplot(144)\n",
    "sns.boxplot(train['MentalHealth'],linewidth=1,palette='Set2')\n",
    "plt.show()\n"
   ]
  },
  {
   "cell_type": "code",
   "execution_count": 48,
   "metadata": {},
   "outputs": [],
   "source": [
    "train['Physical_MentalHealth'] = train['PhysicalHealth'] + train['MentalHealth']\n",
    "test['Physical_MentalHealth'] = test['PhysicalHealth'] + test['MentalHealth']"
   ]
  },
  {
   "cell_type": "code",
   "execution_count": 49,
   "metadata": {},
   "outputs": [
    {
     "data": {
      "text/html": [
       "<div>\n",
       "<style scoped>\n",
       "    .dataframe tbody tr th:only-of-type {\n",
       "        vertical-align: middle;\n",
       "    }\n",
       "\n",
       "    .dataframe tbody tr th {\n",
       "        vertical-align: top;\n",
       "    }\n",
       "\n",
       "    .dataframe thead th {\n",
       "        text-align: right;\n",
       "    }\n",
       "</style>\n",
       "<table border=\"1\" class=\"dataframe\">\n",
       "  <thead>\n",
       "    <tr style=\"text-align: right;\">\n",
       "      <th></th>\n",
       "      <th>HeartDisease</th>\n",
       "      <th>BMI</th>\n",
       "      <th>Smoking</th>\n",
       "      <th>AlcoholDrinking</th>\n",
       "      <th>Stroke</th>\n",
       "      <th>PhysicalHealth</th>\n",
       "      <th>MentalHealth</th>\n",
       "      <th>DiffWalking</th>\n",
       "      <th>Sex</th>\n",
       "      <th>AgeCategory</th>\n",
       "      <th>Race</th>\n",
       "      <th>Diabetic</th>\n",
       "      <th>PhysicalActivity</th>\n",
       "      <th>GenHealth</th>\n",
       "      <th>SleepTime</th>\n",
       "      <th>Asthma</th>\n",
       "      <th>KidneyDisease</th>\n",
       "      <th>SkinCancer</th>\n",
       "      <th>Physical_MentalHealth</th>\n",
       "    </tr>\n",
       "  </thead>\n",
       "  <tbody>\n",
       "    <tr>\n",
       "      <th>222801</th>\n",
       "      <td>1</td>\n",
       "      <td>30.07</td>\n",
       "      <td>1</td>\n",
       "      <td>0</td>\n",
       "      <td>0</td>\n",
       "      <td>0.0</td>\n",
       "      <td>0.0</td>\n",
       "      <td>0</td>\n",
       "      <td>1</td>\n",
       "      <td>10</td>\n",
       "      <td>2</td>\n",
       "      <td>1</td>\n",
       "      <td>1</td>\n",
       "      <td>3</td>\n",
       "      <td>8.0</td>\n",
       "      <td>0</td>\n",
       "      <td>0</td>\n",
       "      <td>0</td>\n",
       "      <td>0.0</td>\n",
       "    </tr>\n",
       "    <tr>\n",
       "      <th>19905</th>\n",
       "      <td>0</td>\n",
       "      <td>32.64</td>\n",
       "      <td>0</td>\n",
       "      <td>0</td>\n",
       "      <td>0</td>\n",
       "      <td>0.0</td>\n",
       "      <td>0.0</td>\n",
       "      <td>0</td>\n",
       "      <td>0</td>\n",
       "      <td>9</td>\n",
       "      <td>0</td>\n",
       "      <td>0</td>\n",
       "      <td>0</td>\n",
       "      <td>2</td>\n",
       "      <td>8.0</td>\n",
       "      <td>0</td>\n",
       "      <td>0</td>\n",
       "      <td>1</td>\n",
       "      <td>0.0</td>\n",
       "    </tr>\n",
       "    <tr>\n",
       "      <th>68475</th>\n",
       "      <td>1</td>\n",
       "      <td>22.81</td>\n",
       "      <td>0</td>\n",
       "      <td>0</td>\n",
       "      <td>0</td>\n",
       "      <td>0.0</td>\n",
       "      <td>0.0</td>\n",
       "      <td>0</td>\n",
       "      <td>0</td>\n",
       "      <td>11</td>\n",
       "      <td>0</td>\n",
       "      <td>0</td>\n",
       "      <td>1</td>\n",
       "      <td>1</td>\n",
       "      <td>8.0</td>\n",
       "      <td>0</td>\n",
       "      <td>0</td>\n",
       "      <td>0</td>\n",
       "      <td>0.0</td>\n",
       "    </tr>\n",
       "    <tr>\n",
       "      <th>169247</th>\n",
       "      <td>1</td>\n",
       "      <td>22.15</td>\n",
       "      <td>1</td>\n",
       "      <td>0</td>\n",
       "      <td>1</td>\n",
       "      <td>0.0</td>\n",
       "      <td>0.0</td>\n",
       "      <td>0</td>\n",
       "      <td>0</td>\n",
       "      <td>11</td>\n",
       "      <td>0</td>\n",
       "      <td>0</td>\n",
       "      <td>1</td>\n",
       "      <td>2</td>\n",
       "      <td>7.0</td>\n",
       "      <td>0</td>\n",
       "      <td>0</td>\n",
       "      <td>0</td>\n",
       "      <td>0.0</td>\n",
       "    </tr>\n",
       "    <tr>\n",
       "      <th>74168</th>\n",
       "      <td>1</td>\n",
       "      <td>28.06</td>\n",
       "      <td>1</td>\n",
       "      <td>0</td>\n",
       "      <td>0</td>\n",
       "      <td>0.0</td>\n",
       "      <td>0.0</td>\n",
       "      <td>0</td>\n",
       "      <td>0</td>\n",
       "      <td>4</td>\n",
       "      <td>0</td>\n",
       "      <td>0</td>\n",
       "      <td>1</td>\n",
       "      <td>1</td>\n",
       "      <td>8.0</td>\n",
       "      <td>0</td>\n",
       "      <td>0</td>\n",
       "      <td>0</td>\n",
       "      <td>0.0</td>\n",
       "    </tr>\n",
       "  </tbody>\n",
       "</table>\n",
       "</div>"
      ],
      "text/plain": [
       "        HeartDisease    BMI  Smoking  AlcoholDrinking  Stroke  PhysicalHealth  \\\n",
       "222801             1  30.07        1                0       0             0.0   \n",
       "19905              0  32.64        0                0       0             0.0   \n",
       "68475              1  22.81        0                0       0             0.0   \n",
       "169247             1  22.15        1                0       1             0.0   \n",
       "74168              1  28.06        1                0       0             0.0   \n",
       "\n",
       "        MentalHealth  DiffWalking  Sex  AgeCategory  Race  Diabetic  \\\n",
       "222801           0.0            0    1           10     2         1   \n",
       "19905            0.0            0    0            9     0         0   \n",
       "68475            0.0            0    0           11     0         0   \n",
       "169247           0.0            0    0           11     0         0   \n",
       "74168            0.0            0    0            4     0         0   \n",
       "\n",
       "        PhysicalActivity  GenHealth  SleepTime  Asthma  KidneyDisease  \\\n",
       "222801                 1          3        8.0       0              0   \n",
       "19905                  0          2        8.0       0              0   \n",
       "68475                  1          1        8.0       0              0   \n",
       "169247                 1          2        7.0       0              0   \n",
       "74168                  1          1        8.0       0              0   \n",
       "\n",
       "        SkinCancer  Physical_MentalHealth  \n",
       "222801           0                    0.0  \n",
       "19905            1                    0.0  \n",
       "68475            0                    0.0  \n",
       "169247           0                    0.0  \n",
       "74168            0                    0.0  "
      ]
     },
     "execution_count": 49,
     "metadata": {},
     "output_type": "execute_result"
    }
   ],
   "source": [
    "train.head()"
   ]
  },
  {
   "cell_type": "code",
   "execution_count": 50,
   "metadata": {},
   "outputs": [],
   "source": [
    "y_train = train['HeartDisease']\n",
    "X_train = train.drop('HeartDisease',axis=1)\n",
    "X_train, X_valid, y_train, y_valid = train_test_split(X_train, y_train, stratify=train['HeartDisease'], test_size=.2, random_state=15)\n",
    "\n",
    "y_test = test['HeartDisease']\n",
    "X_test = test.drop('HeartDisease', axis=1)"
   ]
  },
  {
   "cell_type": "code",
   "execution_count": 51,
   "metadata": {},
   "outputs": [
    {
     "data": {
      "text/html": [
       "<div>\n",
       "<style scoped>\n",
       "    .dataframe tbody tr th:only-of-type {\n",
       "        vertical-align: middle;\n",
       "    }\n",
       "\n",
       "    .dataframe tbody tr th {\n",
       "        vertical-align: top;\n",
       "    }\n",
       "\n",
       "    .dataframe thead th {\n",
       "        text-align: right;\n",
       "    }\n",
       "</style>\n",
       "<table border=\"1\" class=\"dataframe\">\n",
       "  <thead>\n",
       "    <tr style=\"text-align: right;\">\n",
       "      <th></th>\n",
       "      <th>BMI</th>\n",
       "      <th>Smoking</th>\n",
       "      <th>AlcoholDrinking</th>\n",
       "      <th>Stroke</th>\n",
       "      <th>PhysicalHealth</th>\n",
       "      <th>MentalHealth</th>\n",
       "      <th>DiffWalking</th>\n",
       "      <th>Sex</th>\n",
       "      <th>AgeCategory</th>\n",
       "      <th>Race</th>\n",
       "      <th>Diabetic</th>\n",
       "      <th>PhysicalActivity</th>\n",
       "      <th>GenHealth</th>\n",
       "      <th>SleepTime</th>\n",
       "      <th>Asthma</th>\n",
       "      <th>KidneyDisease</th>\n",
       "      <th>SkinCancer</th>\n",
       "      <th>Physical_MentalHealth</th>\n",
       "    </tr>\n",
       "  </thead>\n",
       "  <tbody>\n",
       "    <tr>\n",
       "      <th>117134</th>\n",
       "      <td>28.29</td>\n",
       "      <td>0</td>\n",
       "      <td>0</td>\n",
       "      <td>0</td>\n",
       "      <td>0.0</td>\n",
       "      <td>0.0</td>\n",
       "      <td>0</td>\n",
       "      <td>1</td>\n",
       "      <td>12</td>\n",
       "      <td>0</td>\n",
       "      <td>1</td>\n",
       "      <td>0</td>\n",
       "      <td>2</td>\n",
       "      <td>8.0</td>\n",
       "      <td>0</td>\n",
       "      <td>0</td>\n",
       "      <td>0</td>\n",
       "      <td>0.0</td>\n",
       "    </tr>\n",
       "    <tr>\n",
       "      <th>243744</th>\n",
       "      <td>23.89</td>\n",
       "      <td>1</td>\n",
       "      <td>1</td>\n",
       "      <td>0</td>\n",
       "      <td>0.0</td>\n",
       "      <td>0.0</td>\n",
       "      <td>0</td>\n",
       "      <td>1</td>\n",
       "      <td>5</td>\n",
       "      <td>0</td>\n",
       "      <td>0</td>\n",
       "      <td>1</td>\n",
       "      <td>0</td>\n",
       "      <td>8.0</td>\n",
       "      <td>1</td>\n",
       "      <td>0</td>\n",
       "      <td>0</td>\n",
       "      <td>0.0</td>\n",
       "    </tr>\n",
       "    <tr>\n",
       "      <th>52719</th>\n",
       "      <td>31.09</td>\n",
       "      <td>1</td>\n",
       "      <td>0</td>\n",
       "      <td>0</td>\n",
       "      <td>0.0</td>\n",
       "      <td>0.0</td>\n",
       "      <td>0</td>\n",
       "      <td>1</td>\n",
       "      <td>8</td>\n",
       "      <td>0</td>\n",
       "      <td>0</td>\n",
       "      <td>0</td>\n",
       "      <td>0</td>\n",
       "      <td>8.0</td>\n",
       "      <td>0</td>\n",
       "      <td>0</td>\n",
       "      <td>1</td>\n",
       "      <td>0.0</td>\n",
       "    </tr>\n",
       "    <tr>\n",
       "      <th>234412</th>\n",
       "      <td>28.08</td>\n",
       "      <td>1</td>\n",
       "      <td>0</td>\n",
       "      <td>0</td>\n",
       "      <td>0.0</td>\n",
       "      <td>0.0</td>\n",
       "      <td>0</td>\n",
       "      <td>0</td>\n",
       "      <td>12</td>\n",
       "      <td>0</td>\n",
       "      <td>0</td>\n",
       "      <td>1</td>\n",
       "      <td>1</td>\n",
       "      <td>8.0</td>\n",
       "      <td>0</td>\n",
       "      <td>0</td>\n",
       "      <td>0</td>\n",
       "      <td>0.0</td>\n",
       "    </tr>\n",
       "    <tr>\n",
       "      <th>76610</th>\n",
       "      <td>29.05</td>\n",
       "      <td>1</td>\n",
       "      <td>0</td>\n",
       "      <td>0</td>\n",
       "      <td>0.0</td>\n",
       "      <td>0.0</td>\n",
       "      <td>0</td>\n",
       "      <td>0</td>\n",
       "      <td>7</td>\n",
       "      <td>5</td>\n",
       "      <td>1</td>\n",
       "      <td>1</td>\n",
       "      <td>2</td>\n",
       "      <td>7.0</td>\n",
       "      <td>0</td>\n",
       "      <td>0</td>\n",
       "      <td>0</td>\n",
       "      <td>0.0</td>\n",
       "    </tr>\n",
       "  </tbody>\n",
       "</table>\n",
       "</div>"
      ],
      "text/plain": [
       "          BMI  Smoking  AlcoholDrinking  Stroke  PhysicalHealth  MentalHealth  \\\n",
       "117134  28.29        0                0       0             0.0           0.0   \n",
       "243744  23.89        1                1       0             0.0           0.0   \n",
       "52719   31.09        1                0       0             0.0           0.0   \n",
       "234412  28.08        1                0       0             0.0           0.0   \n",
       "76610   29.05        1                0       0             0.0           0.0   \n",
       "\n",
       "        DiffWalking  Sex  AgeCategory  Race  Diabetic  PhysicalActivity  \\\n",
       "117134            0    1           12     0         1                 0   \n",
       "243744            0    1            5     0         0                 1   \n",
       "52719             0    1            8     0         0                 0   \n",
       "234412            0    0           12     0         0                 1   \n",
       "76610             0    0            7     5         1                 1   \n",
       "\n",
       "        GenHealth  SleepTime  Asthma  KidneyDisease  SkinCancer  \\\n",
       "117134          2        8.0       0              0           0   \n",
       "243744          0        8.0       1              0           0   \n",
       "52719           0        8.0       0              0           1   \n",
       "234412          1        8.0       0              0           0   \n",
       "76610           2        7.0       0              0           0   \n",
       "\n",
       "        Physical_MentalHealth  \n",
       "117134                    0.0  \n",
       "243744                    0.0  \n",
       "52719                     0.0  \n",
       "234412                    0.0  \n",
       "76610                     0.0  "
      ]
     },
     "execution_count": 51,
     "metadata": {},
     "output_type": "execute_result"
    }
   ],
   "source": [
    "X_train.head(5)"
   ]
  },
  {
   "cell_type": "code",
   "execution_count": 52,
   "metadata": {},
   "outputs": [],
   "source": [
    "from sklearn.preprocessing import StandardScaler\n",
    "sc = StandardScaler()\n",
    "X_train = sc.fit_transform(X_train)\n",
    "X_test = sc.transform(X_test)"
   ]
  },
  {
   "cell_type": "code",
   "execution_count": 53,
   "metadata": {},
   "outputs": [
    {
     "name": "stdout",
     "output_type": "stream",
     "text": [
      "               Specs         Score\n",
      "8        AgeCategory  32328.853617\n",
      "9               Race  16253.024475\n",
      "15     KidneyDisease   1290.021465\n",
      "5       MentalHealth   1144.644317\n",
      "6        DiffWalking    904.230428\n",
      "7                Sex    636.735378\n",
      "12         GenHealth    628.869159\n",
      "3             Stroke    529.411049\n",
      "10          Diabetic    289.456420\n",
      "4     PhysicalHealth    226.488115\n",
      "13         SleepTime    169.163321\n",
      "0                BMI    161.309086\n",
      "1            Smoking    149.168088\n",
      "11  PhysicalActivity     43.645941\n",
      "2    AlcoholDrinking     33.385722\n",
      "14            Asthma      1.495020\n"
     ]
    }
   ],
   "source": [
    "from sklearn.feature_selection import SelectKBest\n",
    "from sklearn.feature_selection import chi2\n",
    "data = df_test_over.copy()\n",
    "X = data.iloc[:,1:17]  #independent columns\n",
    "y = data.iloc[:,-1]    #target column \n",
    "#apply SelectKBest class to extract top best features\n",
    "bestfeatures = SelectKBest(score_func=chi2, k=10)\n",
    "fit = bestfeatures.fit(X,y)\n",
    "dfscores = pd.DataFrame(fit.scores_)\n",
    "dfcolumns = pd.DataFrame(X.columns)\n",
    "#concat two dataframes for better visualization \n",
    "featureScores = pd.concat([dfcolumns,dfscores],axis=1)\n",
    "featureScores.columns = ['Specs','Score']  #naming the dataframe columns\n",
    "print(featureScores.nlargest(18,'Score'))  #print best features"
   ]
  },
  {
   "cell_type": "code",
   "execution_count": 54,
   "metadata": {},
   "outputs": [],
   "source": [
    "from sklearn.metrics import accuracy_score, confusion_matrix, classification_report\n",
    "\n",
    "def print_score(clf, X_train, y_train, X_test, y_test, train=True):\n",
    "    if train:\n",
    "        pred = clf.predict(X_train)\n",
    "        clf_report = pd.DataFrame(classification_report(y_train, pred, output_dict=True))\n",
    "        print(\"Train Result:\\n================================================\")\n",
    "        print(f\"Accuracy Score: {accuracy_score(y_train, pred) * 100:.2f}%\")\n",
    "        print(\"_______________________________________________\")\n",
    "        print(f\"CLASSIFICATION REPORT:\\n{clf_report}\")\n",
    "        print(\"_______________________________________________\")\n",
    "        print(f\"Confusion Matrix: \\n {confusion_matrix(y_train, pred)}\\n\")\n",
    "        \n",
    "    elif train==False:\n",
    "        pred = clf.predict(X_test)\n",
    "        clf_report = pd.DataFrame(classification_report(y_test, pred, output_dict=True))\n",
    "        print(\"Test Result:\\n================================================\")        \n",
    "        print(f\"Accuracy Score: {accuracy_score(y_test, pred) * 100:.2f}%\")\n",
    "        print(\"_______________________________________________\")\n",
    "        print(f\"CLASSIFICATION REPORT:\\n{clf_report}\")\n",
    "        print(\"_______________________________________________\")\n",
    "        print(f\"Confusion Matrix: \\n {confusion_matrix(y_test, pred)}\\n\")"
   ]
  },
  {
   "cell_type": "code",
   "execution_count": 55,
   "metadata": {},
   "outputs": [],
   "source": [
    "from sklearn.linear_model import LogisticRegression\n",
    "from sklearn import model_selection\n",
    "from sklearn.model_selection import cross_val_score\n",
    "import xgboost as xgb\n",
    "# function initializing baseline machine learning models\n",
    "def GetBasedModel():\n",
    "    basedModels = []\n",
    "    basedModels.append(('LR_L2'   , LogisticRegression(penalty='l2')))\n",
    "    basedModels.append(('LDA'  , LinearDiscriminantAnalysis()))\n",
    "    basedModels.append(('KNN7'  , KNeighborsClassifier(7)))\n",
    "    basedModels.append(('KNN5'  , KNeighborsClassifier(5)))\n",
    "    basedModels.append(('KNN9'  , KNeighborsClassifier(9)))\n",
    "    basedModels.append(('KNN11'  , KNeighborsClassifier(11)))\n",
    "    basedModels.append(('CART' , DecisionTreeClassifier()))\n",
    "    basedModels.append(('NB'   , GaussianNB()))\n",
    "    #basedModels.append(('SVM Linear'  , SVC(kernel='linear',gamma='auto',probability=True)))\n",
    "    #basedModels.append(('SVM RBF'  , SVC(kernel='rbf',gamma='auto',probability=True)))\n",
    "    basedModels.append(('AB'   , AdaBoostClassifier()))\n",
    "    basedModels.append(('GBM'  , GradientBoostingClassifier(n_estimators=100,max_features='sqrt')))\n",
    "    basedModels.append(('RF_Ent100'   , RandomForestClassifier(criterion='entropy',n_estimators=100)))\n",
    "    basedModels.append(('RF_Gini100'   , RandomForestClassifier(criterion='gini',n_estimators=100)))\n",
    "    basedModels.append(('ET100'   , ExtraTreesClassifier(n_estimators= 100)))\n",
    "    basedModels.append(('ET500'   , ExtraTreesClassifier(n_estimators= 500)))\n",
    "    basedModels.append(('MLP', MLPClassifier()))\n",
    "    basedModels.append(('SGD3000', SGDClassifier(max_iter=1000, tol=1e-4)))\n",
    "    basedModels.append(('XGB_2000', xgb.XGBClassifier(n_estimators= 2000)))\n",
    "    basedModels.append(('XGB_500', xgb.XGBClassifier(n_estimators= 500)))\n",
    "    basedModels.append(('XGB_100', xgb.XGBClassifier(n_estimators= 100)))\n",
    "    basedModels.append(('XGB_1000', xgb.XGBClassifier(n_estimators= 1000)))\n",
    "    basedModels.append(('ET1000'   , ExtraTreesClassifier(n_estimators= 1000)))\n",
    "    \n",
    "    return basedModels"
   ]
  },
  {
   "cell_type": "code",
   "execution_count": 56,
   "metadata": {},
   "outputs": [],
   "source": [
    "def BasedLine2(X_train, y_train,models):\n",
    "    # Test options and evaluation metric\n",
    "    num_folds = 10\n",
    "    scoring = 'accuracy'\n",
    "    seed = 7\n",
    "    results = []\n",
    "    names = []\n",
    "    for name, model in models:\n",
    "        kfold = model_selection.KFold(n_splits=10, random_state=seed, shuffle = True)\n",
    "        cv_results = model_selection.cross_val_score(model, X_train, y_train, cv=kfold, scoring=scoring)\n",
    "        results.append(cv_results)\n",
    "        names.append(name)\n",
    "        msg = \"%s: %f (%f)\" % (name, cv_results.mean(), cv_results.std())\n",
    "        print(msg)\n",
    "    return results,msg"
   ]
  },
  {
   "cell_type": "code",
   "execution_count": 57,
   "metadata": {},
   "outputs": [
    {
     "name": "stdout",
     "output_type": "stream",
     "text": [
      "LR_L2: 0.747759 (0.003424)\n",
      "LDA: 0.748210 (0.003111)\n",
      "KNN7: 0.842751 (0.002780)\n",
      "KNN5: 0.870818 (0.003066)\n",
      "KNN9: 0.819605 (0.002498)\n",
      "KNN11: 0.803045 (0.003602)\n",
      "CART: 0.943538 (0.001882)\n",
      "NB: 0.686914 (0.003444)\n",
      "AB: 0.747331 (0.003374)\n",
      "GBM: 0.752087 (0.003082)\n",
      "RF_Ent100: 0.951495 (0.000736)\n",
      "RF_Gini100: 0.952332 (0.000901)\n",
      "ET100: 0.958804 (0.000652)\n",
      "ET500: 0.958745 (0.000877)\n",
      "MLP: 0.764265 (0.004567)\n",
      "SGD3000: 0.747046 (0.003327)\n",
      "XGB_2000: 0.910471 (0.002635)\n",
      "XGB_500: 0.847228 (0.004446)\n",
      "XGB_100: 0.786336 (0.003202)\n",
      "XGB_1000: 0.881043 (0.004122)\n",
      "ET1000: 0.958739 (0.000595)\n"
     ]
    }
   ],
   "source": [
    "models = GetBasedModel()\n",
    "names,results = BasedLine2(X_train, y_train,models)"
   ]
  },
  {
   "cell_type": "code",
   "execution_count": 58,
   "metadata": {},
   "outputs": [],
   "source": [
    "rf_ent = RandomForestClassifier(criterion='entropy',n_estimators=100)\n",
    "rf_ent.fit(X_train, y_train)\n",
    "y_pred_rfe = rf_ent.predict(X_test)"
   ]
  },
  {
   "cell_type": "code",
   "execution_count": 59,
   "metadata": {},
   "outputs": [],
   "source": [
    "mlp = MLPClassifier()\n",
    "mlp.fit(X_train,y_train)\n",
    "y_pred_mlp = mlp.predict(X_test)"
   ]
  },
  {
   "cell_type": "code",
   "execution_count": 60,
   "metadata": {},
   "outputs": [],
   "source": [
    "knn = KNeighborsClassifier(9)\n",
    "knn.fit(X_train,y_train)\n",
    "y_pred_knn = knn.predict(X_test)"
   ]
  },
  {
   "cell_type": "code",
   "execution_count": 61,
   "metadata": {},
   "outputs": [],
   "source": [
    "et_500 = ExtraTreesClassifier(n_estimators= 500)\n",
    "et_500.fit(X_train,y_train)\n",
    "y_pred_et500 = et_500.predict(X_test)"
   ]
  },
  {
   "cell_type": "code",
   "execution_count": 62,
   "metadata": {},
   "outputs": [],
   "source": [
    "xgb = xgb.XGBClassifier(n_estimators= 100)\n",
    "xgb.fit(X_train,y_train)\n",
    "y_pred_xgb = xgb.predict(X_test)"
   ]
  },
  {
   "cell_type": "code",
   "execution_count": 63,
   "metadata": {},
   "outputs": [],
   "source": [
    "sgd = SGDClassifier(max_iter=1000, tol=1e-4)\n",
    "sgd.fit(X_train,y_train)\n",
    "y_pred_sgd = sgd.predict(X_test)"
   ]
  },
  {
   "cell_type": "code",
   "execution_count": 64,
   "metadata": {},
   "outputs": [],
   "source": [
    "ada = AdaBoostClassifier()\n",
    "ada.fit(X_train,y_train)\n",
    "y_pred_ada = ada.predict(X_test)"
   ]
  },
  {
   "cell_type": "code",
   "execution_count": 65,
   "metadata": {},
   "outputs": [],
   "source": [
    "decc = DecisionTreeClassifier()\n",
    "decc.fit(X_train,y_train)\n",
    "y_pred_decc = decc.predict(X_test)"
   ]
  },
  {
   "cell_type": "code",
   "execution_count": 66,
   "metadata": {},
   "outputs": [],
   "source": [
    "gbm = GradientBoostingClassifier(n_estimators=100,max_features='sqrt')\n",
    "gbm.fit(X_train,y_train)\n",
    "y_pred_gbm = gbm.predict(X_test)"
   ]
  },
  {
   "cell_type": "code",
   "execution_count": 67,
   "metadata": {},
   "outputs": [],
   "source": [
    "import xgboost as xgboost\n",
    "# selecting list of top performing models to be used in stacked ensemble method\n",
    "models = [\n",
    "    RandomForestClassifier(criterion='entropy',n_estimators=100),\n",
    "    MLPClassifier(),\n",
    "    RandomForestClassifier(criterion='gini',n_estimators=100),\n",
    "    KNeighborsClassifier(9),\n",
    "    ExtraTreesClassifier(n_estimators= 500),\n",
    "    ExtraTreesClassifier(n_estimators= 100),\n",
    "    xgboost.XGBClassifier(n_estimators= 1000),\n",
    "    xgboost.XGBClassifier(n_estimators= 100),\n",
    "    xgboost.XGBClassifier(n_estimators= 500),\n",
    "    xgboost.XGBClassifier(n_estimators= 2000),\n",
    "    xgboost.XGBClassifier(),\n",
    "    SGDClassifier(max_iter=1000, tol=1e-4),\n",
    "    AdaBoostClassifier(),\n",
    "    DecisionTreeClassifier(),\n",
    "    LinearDiscriminantAnalysis(),\n",
    "    GradientBoostingClassifier(n_estimators=100,max_features='sqrt'),\n",
    "    ExtraTreesClassifier(n_estimators= 1000),\n",
    "]"
   ]
  },
  {
   "cell_type": "code",
   "execution_count": 68,
   "metadata": {},
   "outputs": [
    {
     "name": "stdout",
     "output_type": "stream",
     "text": [
      "task:         [classification]\n",
      "n_classes:    [2]\n",
      "metric:       [accuracy_score]\n",
      "mode:         [oof_pred_bag]\n",
      "n_models:     [17]\n",
      "\n",
      "model  0:     [RandomForestClassifier]\n",
      "    fold  0:  [0.94629338]\n",
      "    fold  1:  [0.94501677]\n",
      "    fold  2:  [0.94902473]\n",
      "    fold  3:  [0.94593712]\n",
      "    fold  4:  [0.94646992]\n",
      "    ----\n",
      "    MEAN:     [0.94654839] + [0.00133589]\n",
      "    FULL:     [0.94654839]\n",
      "\n",
      "model  1:     [MLPClassifier]\n",
      "    fold  0:  [0.76658849]\n",
      "    fold  1:  [0.76525250]\n",
      "    fold  2:  [0.76810260]\n",
      "    fold  3:  [0.76379776]\n",
      "    fold  4:  [0.76200938]\n",
      "    ----\n",
      "    MEAN:     [0.76515015] + [0.00212083]\n",
      "    FULL:     [0.76515017]\n",
      "\n",
      "model  2:     [RandomForestClassifier]\n",
      "    fold  0:  [0.94679809]\n",
      "    fold  1:  [0.94656058]\n",
      "    fold  2:  [0.94949975]\n",
      "    fold  3:  [0.94765906]\n",
      "    fold  4:  [0.94736061]\n",
      "    ----\n",
      "    MEAN:     [0.94757562] + [0.00103830]\n",
      "    FULL:     [0.94757562]\n",
      "\n",
      "model  3:     [KNeighborsClassifier]\n",
      "    fold  0:  [0.80711338]\n",
      "    fold  1:  [0.80553989]\n",
      "    fold  2:  [0.81031975]\n",
      "    fold  3:  [0.80948847]\n",
      "    fold  4:  [0.80455436]\n",
      "    ----\n",
      "    MEAN:     [0.80740317] + [0.00221479]\n",
      "    FULL:     [0.80740319]\n",
      "\n",
      "model  4:     [ExtraTreesClassifier]\n",
      "    fold  0:  [0.95404210]\n",
      "    fold  1:  [0.95332957]\n",
      "    fold  2:  [0.95600154]\n",
      "    fold  3:  [0.95475462]\n",
      "    fold  4:  [0.95454545]\n",
      "    ----\n",
      "    MEAN:     [0.95453466] + [0.00088262]\n",
      "    FULL:     [0.95453466]\n",
      "\n",
      "model  5:     [ExtraTreesClassifier]\n",
      "    fold  0:  [0.95404210]\n",
      "    fold  1:  [0.95374521]\n",
      "    fold  2:  [0.95546715]\n",
      "    fold  3:  [0.95430930]\n",
      "    fold  4:  [0.95487204]\n",
      "    ----\n",
      "    MEAN:     [0.95448716] + [0.00061461]\n",
      "    FULL:     [0.95448716]\n",
      "\n",
      "model  6:     [XGBClassifier]\n",
      "    fold  0:  [0.87887065]\n",
      "    fold  1:  [0.87705964]\n",
      "    fold  2:  [0.87792061]\n",
      "    fold  3:  [0.88083009]\n",
      "    fold  4:  [0.87815450]\n",
      "    ----\n",
      "    MEAN:     [0.87856710] + [0.00127074]\n",
      "    FULL:     [0.87856710]\n",
      "\n",
      "model  7:     [XGBClassifier]\n",
      "    fold  0:  [0.78722204]\n",
      "    fold  1:  [0.78502509]\n",
      "    fold  2:  [0.78861740]\n",
      "    fold  3:  [0.78570792]\n",
      "    fold  4:  [0.78255448]\n",
      "    ----\n",
      "    MEAN:     [0.78582539] + [0.00205422]\n",
      "    FULL:     [0.78582541]\n",
      "\n",
      "model  8:     [XGBClassifier]\n",
      "    fold  0:  [0.84900395]\n",
      "    fold  1:  [0.84496630]\n",
      "    fold  2:  [0.84585696]\n",
      "    fold  3:  [0.84754921]\n",
      "    fold  4:  [0.84674307]\n",
      "    ----\n",
      "    MEAN:     [0.84682390] + [0.00139074]\n",
      "    FULL:     [0.84682390]\n",
      "\n",
      "model  9:     [XGBClassifier]\n",
      "    fold  0:  [0.90844046]\n",
      "    fold  1:  [0.90668883]\n",
      "    fold  2:  [0.90662946]\n",
      "    fold  3:  [0.90852953]\n",
      "    fold  4:  [0.90478594]\n",
      "    ----\n",
      "    MEAN:     [0.90701484] + [0.00138199]\n",
      "    FULL:     [0.90701486]\n",
      "\n",
      "model 10:     [XGBClassifier]\n",
      "    fold  0:  [0.78722204]\n",
      "    fold  1:  [0.78502509]\n",
      "    fold  2:  [0.78861740]\n",
      "    fold  3:  [0.78570792]\n",
      "    fold  4:  [0.78255448]\n",
      "    ----\n",
      "    MEAN:     [0.78582539] + [0.00205422]\n",
      "    FULL:     [0.78582541]\n",
      "\n",
      "model 11:     [SGDClassifier]\n",
      "    fold  0:  [0.74930974]\n",
      "    fold  1:  [0.74595493]\n",
      "    fold  2:  [0.74945818]\n",
      "    fold  3:  [0.74788469]\n",
      "    fold  4:  [0.74333472]\n",
      "    ----\n",
      "    MEAN:     [0.74718845] + [0.00230257]\n",
      "    FULL:     [0.74718848]\n",
      "\n",
      "model 12:     [AdaBoostClassifier]\n",
      "    fold  0:  [0.74919099]\n",
      "    fold  1:  [0.74651902]\n",
      "    fold  2:  [0.74910192]\n",
      "    fold  3:  [0.74827064]\n",
      "    fold  4:  [0.74357223]\n",
      "    ----\n",
      "    MEAN:     [0.74733096] + [0.00211027]\n",
      "    FULL:     [0.74733098]\n",
      "\n",
      "model 13:     [DecisionTreeClassifier]\n",
      "    fold  0:  [0.93658522]\n",
      "    fold  1:  [0.93738681]\n",
      "    fold  2:  [0.93931657]\n",
      "    fold  3:  [0.93919781]\n",
      "    fold  4:  [0.93723651]\n",
      "    ----\n",
      "    MEAN:     [0.93794458] + [0.00110574]\n",
      "    FULL:     [0.93794459]\n",
      "\n",
      "model 14:     [LinearDiscriminantAnalysis]\n",
      "    fold  0:  [0.75025977]\n",
      "    fold  1:  [0.74708310]\n",
      "    fold  2:  [0.75097230]\n",
      "    fold  3:  [0.74895348]\n",
      "    fold  4:  [0.74475981]\n",
      "    ----\n",
      "    MEAN:     [0.74840569] + [0.00225241]\n",
      "    FULL:     [0.74840571]\n",
      "\n",
      "model 15:     [GradientBoostingClassifier]\n",
      "    fold  0:  [0.75613811]\n",
      "    fold  1:  [0.75156607]\n",
      "    fold  2:  [0.75661313]\n",
      "    fold  3:  [0.75310988]\n",
      "    fold  4:  [0.74755062]\n",
      "    ----\n",
      "    MEAN:     [0.75299556] + [0.00330655]\n",
      "    FULL:     [0.75299559]\n",
      "\n",
      "model 16:     [ExtraTreesClassifier]\n",
      "    fold  0:  [0.95386397]\n",
      "    fold  1:  [0.95356708]\n",
      "    fold  2:  [0.95626874]\n",
      "    fold  3:  [0.95451712]\n",
      "    fold  4:  [0.95421887]\n",
      "    ----\n",
      "    MEAN:     [0.95448716] + [0.00094677]\n",
      "    FULL:     [0.95448716]\n",
      "\n"
     ]
    }
   ],
   "source": [
    "S_train, S_test = stacking(models,                   \n",
    "                           X_train, y_train, X_test,   \n",
    "                           regression=False, \n",
    "     \n",
    "                           mode='oof_pred_bag', \n",
    "       \n",
    "                           needs_proba=False,\n",
    "         \n",
    "                           save_dir=None, \n",
    "            \n",
    "                           metric=accuracy_score, \n",
    "    \n",
    "                           n_folds=5, \n",
    "                 \n",
    "                           stratified=True,\n",
    "            \n",
    "                           shuffle=True,  \n",
    "                           random_state=0,    \n",
    "         \n",
    "                           verbose=2)"
   ]
  },
  {
   "cell_type": "code",
   "execution_count": 69,
   "metadata": {},
   "outputs": [
    {
     "name": "stdout",
     "output_type": "stream",
     "text": [
      "Final prediction score: [0.98018827]\n"
     ]
    }
   ],
   "source": [
    "model = MLPClassifier()\n",
    "    \n",
    "model = model.fit(S_train, y_train)\n",
    "y_pred = model.predict(S_test)\n",
    "print('Final prediction score: [%.8f]' % accuracy_score(y_test, y_pred))"
   ]
  },
  {
   "cell_type": "code",
   "execution_count": null,
   "metadata": {},
   "outputs": [],
   "source": []
  },
  {
   "cell_type": "code",
   "execution_count": null,
   "metadata": {},
   "outputs": [],
   "source": []
  },
  {
   "cell_type": "code",
   "execution_count": null,
   "metadata": {},
   "outputs": [],
   "source": []
  },
  {
   "cell_type": "code",
   "execution_count": null,
   "metadata": {},
   "outputs": [],
   "source": []
  },
  {
   "cell_type": "code",
   "execution_count": null,
   "metadata": {},
   "outputs": [],
   "source": []
  }
 ],
 "metadata": {
  "kernelspec": {
   "display_name": "Python 3 (ipykernel)",
   "language": "python",
   "name": "python3"
  },
  "language_info": {
   "codemirror_mode": {
    "name": "ipython",
    "version": 3
   },
   "file_extension": ".py",
   "mimetype": "text/x-python",
   "name": "python",
   "nbconvert_exporter": "python",
   "pygments_lexer": "ipython3",
   "version": "3.7.13"
  }
 },
 "nbformat": 4,
 "nbformat_minor": 4
}
